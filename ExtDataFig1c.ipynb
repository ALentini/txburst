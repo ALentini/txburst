{
 "cells": [
  {
   "cell_type": "code",
   "execution_count": 1,
   "metadata": {
    "collapsed": true
   },
   "outputs": [],
   "source": [
    "import pandas as pd\n",
    "import matplotlib.pyplot as plt\n",
    "import numpy as np\n",
    "import sys\n",
    "sys.path.append('..')\n",
    "from inference.simulation import simBetaPoisson\n",
    "from scipy import special\n",
    "from scipy.stats import poisson,norm\n",
    "from scipy.special import j_roots\n",
    "from scipy.special import beta as beta_fun  \n",
    "from joblib import delayed,Parallel"
   ]
  },
  {
   "cell_type": "code",
   "execution_count": 2,
   "metadata": {
    "collapsed": true
   },
   "outputs": [],
   "source": [
    "def dBP_dict(at, alpha, bet, lam):\n",
    "    at_ = np.copy(at)\n",
    "    at_.shape = (len(at_), 1)\n",
    "    np.repeat(at_, 40, axis = 1)\n",
    "    def fun(at_, m):\n",
    "        if(max(m) < 1e6):\n",
    "            return(poisson.pmf(at_,m))\n",
    "        else:\n",
    "            return(norm.pdf(at_,loc=m,scale=sqrt(m)))\n",
    "    x,w = j_roots(40,alpha = bet - 1, beta = alpha - 1)\n",
    "    gs = np.sum(w*fun(at_, m = lam*(1+x)/2), axis=1)\n",
    "    prob = 1/beta_fun(alpha, bet)*2**(-alpha-bet+1)*gs\n",
    "    return {k: v for k, v in zip(at.tolist(), prob.tolist())}"
   ]
  },
  {
   "cell_type": "code",
   "execution_count": 4,
   "metadata": {
    "collapsed": true
   },
   "outputs": [],
   "source": [
    "def getGOF(rna,gene):\n",
    "    from collections import Counter\n",
    "    if np.sum(rna) == 0:\n",
    "        return np.nan\n",
    "    try:\n",
    "        d = dBP_dict(rna, gene[0], gene[1], gene[2])\n",
    "        for key in d:\n",
    "            d[key] *= len(rna)\n",
    "        expected = d\n",
    "        observed = Counter(rna)\n",
    "        chi_sq = sum((((observed[k]-expected[k])**2)/expected[k]) for k in expected)\n",
    "        return chi_sq\n",
    "    except (ValueError, AssertionError):\n",
    "        return np.nan"
   ]
  },
  {
   "cell_type": "code",
   "execution_count": null,
   "metadata": {
    "collapsed": true
   },
   "outputs": [],
   "source": []
  },
  {
   "cell_type": "code",
   "execution_count": 5,
   "metadata": {
    "collapsed": true
   },
   "outputs": [],
   "source": [
    "def MCMC(gene):\n",
    "    p = np.array(params.loc[gene][0])\n",
    "    realGOF = getGOF(np.array(UMI.loc[gene][~np.isnan(UMI.loc[gene])]), p)\n",
    "    larger = np.zeros(1000)\n",
    "    for i in np.arange(1000):\n",
    "        rvs = simBetaPoisson(p)\n",
    "        if realGOF < getGOF(rvs, p):\n",
    "                 larger[i] = 1\n",
    "    return np.mean(larger)"
   ]
  },
  {
   "cell_type": "code",
   "execution_count": 7,
   "metadata": {
    "collapsed": true
   },
   "outputs": [],
   "source": [
    "UMI = pd.read_csv('data/SS3_c57_UMIs_concat.csv', index_col=0)\n",
    "params = pd.read_pickle('data/SS3_c57_UMIs_concat_ML.pkl')"
   ]
  },
  {
   "cell_type": "code",
   "execution_count": 8,
   "metadata": {
    "collapsed": true
   },
   "outputs": [],
   "source": [
    "params = params[params[1]][0]"
   ]
  },
  {
   "cell_type": "code",
   "execution_count": 9,
   "metadata": {
    "collapsed": true
   },
   "outputs": [],
   "source": [
    "params = pd.DataFrame(params)"
   ]
  },
  {
   "cell_type": "code",
   "execution_count": 10,
   "metadata": {
    "collapsed": true
   },
   "outputs": [],
   "source": [
    "import warnings\n",
    "warnings.filterwarnings('ignore')"
   ]
  },
  {
   "cell_type": "code",
   "execution_count": 11,
   "metadata": {},
   "outputs": [
    {
     "name": "stderr",
     "output_type": "stream",
     "text": [
      "[Parallel(n_jobs=50)]: Done  28 tasks      | elapsed:    2.4s\n",
      "[Parallel(n_jobs=50)]: Done 188 tasks      | elapsed:    9.9s\n",
      "[Parallel(n_jobs=50)]: Done 412 tasks      | elapsed:   21.4s\n",
      "[Parallel(n_jobs=50)]: Done 700 tasks      | elapsed:   36.2s\n",
      "[Parallel(n_jobs=50)]: Done 1052 tasks      | elapsed:   54.8s\n",
      "[Parallel(n_jobs=50)]: Done 1468 tasks      | elapsed:  1.3min\n",
      "[Parallel(n_jobs=50)]: Done 1948 tasks      | elapsed:  1.7min\n",
      "[Parallel(n_jobs=50)]: Done 2492 tasks      | elapsed:  2.2min\n",
      "[Parallel(n_jobs=50)]: Done 3100 tasks      | elapsed:  2.7min\n",
      "[Parallel(n_jobs=50)]: Done 3772 tasks      | elapsed:  3.3min\n",
      "[Parallel(n_jobs=50)]: Done 4508 tasks      | elapsed:  4.0min\n",
      "[Parallel(n_jobs=50)]: Done 5308 tasks      | elapsed:  4.7min\n",
      "[Parallel(n_jobs=50)]: Done 6172 tasks      | elapsed:  5.5min\n",
      "[Parallel(n_jobs=50)]: Done 7100 tasks      | elapsed:  6.3min\n",
      "[Parallel(n_jobs=50)]: Done 7382 out of 7382 | elapsed:  6.5min finished\n"
     ]
    }
   ],
   "source": [
    "GOF_C57 = Parallel(n_jobs=50, verbose = 3)(delayed(MCMC)(gene) for gene in params.index.values)"
   ]
  },
  {
   "cell_type": "code",
   "execution_count": 12,
   "metadata": {
    "collapsed": true
   },
   "outputs": [],
   "source": [
    "import pandas as pd\n",
    "gof_series = pd.Series(GOF_C57, index = params.index)"
   ]
  },
  {
   "cell_type": "code",
   "execution_count": 13,
   "metadata": {
    "collapsed": true
   },
   "outputs": [],
   "source": [
    "me = np.log10(pd.Series([p[2]*(p[0]/(p[0]+p[1])) for p in params[0]], index=params.index))"
   ]
  },
  {
   "cell_type": "code",
   "execution_count": 17,
   "metadata": {},
   "outputs": [
    {
     "data": {
      "image/png": "[encoded data removed]",
      "text/plain": [
       "<Figure size 432x288 with 1 Axes>"
      ]
     },
     "metadata": {},
     "output_type": "display_data"
    }
   ],
   "source": [
    "plt.hist([me[gof_series > 0.05], me[gof_series < 0.05]],bins=20, stacked=True, color=['lightgreen', 'red'], label=['Good fit','Bad fit'])\n",
    "plt.xlabel(r'log$_{10}$ mean expression (C57)')\n",
    "plt.ylabel('Frequency (genes)')\n",
    "plt.legend()\n",
    "plt.tight_layout()\n",
    "plt.savefig('figures/ExtDataFig10c.pdf')\n",
    "plt.show()"
   ]
  },
  {
   "cell_type": "code",
   "execution_count": 19,
   "metadata": {},
   "outputs": [
    {
     "name": "stdout",
     "output_type": "stream",
     "text": [
      "6604\n"
     ]
    }
   ],
   "source": [
    "print(np.sum(gof_series > 0.05))"
   ]
  }
 ],
 "metadata": {
  "kernelspec": {
   "display_name": "Python 3",
   "language": "python",
   "name": "python3"
  },
  "language_info": {
   "codemirror_mode": {
    "name": "ipython",
    "version": 3
   },
   "file_extension": ".py",
   "mimetype": "text/x-python",
   "name": "python",
   "nbconvert_exporter": "python",
   "pygments_lexer": "ipython3",
   "version": "3.6.3"
  }
 },
 "nbformat": 4,
 "nbformat_minor": 2
}
